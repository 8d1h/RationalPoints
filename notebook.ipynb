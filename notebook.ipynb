{
 "cells": [
  {
   "cell_type": "code",
   "execution_count": 6,
   "metadata": {},
   "outputs": [
    {
     "name": "stdout",
     "output_type": "stream",
     "text": [
      "\u001b[?2004l\r",
      "[magic succeeded] mode = texmacs\u001b[?2004h\n",
      "\u001b[?2004l\r",
      "[magic succeeded] timeout = 60\u001b[?2004h\n",
      "\u001b[?2004l\r",
      "\u001b[?2004h\n",
      "\u001b[?2004l\r",
      "\u001b[?2004h"
     ]
    },
    {
     "data": {
      "text/html": [
       "$\\left\\{\\left\\{-1,\\,0\\right\\},\\,\\left\\{1,\\,0\\right\\},\\,\\left\\{-\\frac{1}{3},\\,\\frac{2}{3}\\right\\},\\,\\left\\{-\\frac{1}{3},\\,-\\frac{2}{3}\\right\\},\\,\\left\\{\\frac{1}{3},\\,\\frac{2}{3}\\right\\},\\,\\left\\{\\frac{1}{3},\\,-\\frac{2}{3}\\right\\},\\,\\left\\{-\\frac{7}{9},\\,\\frac{4}{9}\\right\\},\\,\\left\\{-\\frac{7}{9},\\,-\\frac{4}{9}\\right\\},\\,\\left\\{\\frac{7}{9},\\,\\frac{4}{9}\\right\\},\\,\\left\\{\\frac{7}{9},\\,-\\frac{4}{9}\\right\\},\\,\\left\\{-\\frac{7}{11},\\,\\frac{6}{11}\\right\\},\\,\\left\\{-\\frac{7}{11},\\,-\\frac{6}{11}\\right\\},\\,\\left\\{\\frac{7}{11},\\,\\frac{6}{11}\\right\\},\\,\\left\\{\\frac{7}{11},\\,-\\frac{6}{11}\\right\\},\\,\\left\\{-\\frac{1}{17},\\,\\frac{12}{17}\\right\\},\\,\\left\\{-\\frac{1}{17},\\,-\\frac{12}{17}\\right\\},\\,\\left\\{\\frac{1}{17},\\,\\frac{12}{17}\\right\\},\\,\\left\\{\\frac{1}{17},\\,-\\frac{12}{17}\\right\\},\\,\\left\\{-\\frac{17}{19},\\,\\frac{6}{19}\\right\\},\\,\\left\\{-\\frac{17}{19},\\,-\\frac{6}{19}\\right\\},\\,\\left\\{\\frac{17}{19},\\,\\frac{6}{19}\\right\\},\\,\\left\\{\\frac{17}{19},\\,-\\frac{6}{19}\\right\\},\\,\\left\\{-\\frac{23}{27},\\,\\frac{10}{27}\\right\\},\\,\\left\\{-\\frac{23}{27},\\,-\\frac{10}{27}\\right\\},\\,\\left\\{\\frac{23}{27},\\,\\frac{10}{27}\\right\\},\\,\\left\\{\\frac{23}{27},\\,-\\frac{10}{27}\\right\\}\\right\\}$"
      ]
     },
     "execution_count": 6,
     "metadata": {},
     "output_type": "execute_result"
    }
   ],
   "source": [
    "--%mode=texmacs\n",
    "--%timeout=60\n",
    "needsPackage \\ {\"VectorGraphics\", \"RationalPoints2\"};\n",
    "QQ[x,y]; f = x^2+2*y^2-1;\n",
    "rationalPoints(ideal f, Bound=>30)"
   ]
  },
  {
   "cell_type": "code",
   "execution_count": 8,
   "metadata": {},
   "outputs": [
    {
     "data": {
      "text/html": [
       "<svg class=\"M2Svg\" viewBox=\"-1.224 -.871059 2.448 1.74212\" style=\"width:30em;height:21.3495em;stroke-linejoin:round;stroke-width:1%\" preserveAspectRatio=\"none\" xmlns=\"http://www.w3.org/2000/svg\" data-pmatrix=\"matrix([[1,0,0,0],[0,1,0,0],[0,0,-1,1000],[0,0,0,1000]])\"><g><g style=\"stroke-width:.02;fill:none;stroke:red;\"><path d=\"M -1 1.18585e-20 L -.96 .19799 L -.92 .277128 L -.88 .335857 L -.84 .383667 L -.8 .424264 L -.76 .459565 L -.72 .490714 L -.68 .518459 L -.64 .543323 L -.6 .565685 L -.56 .585833 L -.52 .603987 L -.48 .620322 L -.44 .63498 L -.4 .648074 L -.36 .659697 L -.32 .669925 L -.28 .678823 L -.24 .68644 L -.2 .69282 L -.16 .697997 L -.12 .701997 L -.08 .70484 L -.04 .706541 L 0 .707107 L .04 .706541 L .08 .70484 L .12 .701997 L .16 .697997 L .2 .69282 L .24 .68644 L .28 .678823 L .32 .669925 L .36 .659697 L .4 .648074 L .44 .63498 L .48 .620322 L .52 .603987 L .56 .585833 L .6 .565685 L .64 .543323 L .68 .518459 L .72 .490714 L .76 .459565 L .8 .424264 L .84 .383667 L .88 .335857 L .92 .277128 L .96 .19799 L 1 3.38813e-21\"/><path d=\"M -1 -1.18585e-20 L -.96 -.19799 L -.92 -.277128 L -.88 -.335857 L -.84 -.383667 L -.8 -.424264 L -.76 -.459565 L -.72 -.490714 L -.68 -.518459 L -.64 -.543323 L -.6 -.565685 L -.56 -.585833 L -.52 -.603987 L -.48 -.620322 L -.44 -.63498 L -.4 -.648074 L -.36 -.659697 L -.32 -.669925 L -.28 -.678823 L -.24 -.68644 L -.2 -.69282 L -.16 -.697997 L -.12 -.701997 L -.08 -.70484 L -.04 -.706541 L 0 -.707107 L .04 -.706541 L .08 -.70484 L .12 -.701997 L .16 -.697997 L .2 -.69282 L .24 -.68644 L .28 -.678823 L .32 -.669925 L .36 -.659697 L .4 -.648074 L .44 -.63498 L .48 -.620322 L .52 -.603987 L .56 -.585833 L .6 -.565685 L .64 -.543323 L .68 -.518459 L .72 -.490714 L .76 -.459565 L .8 -.424264 L .84 -.383667 L .88 -.335857 L .92 -.277128 L .96 -.19799 L 1 -3.38813e-21\"/></g><circle cy=\"0\" cx=\"-1\" r=\".02\" style=\"fill:black;\"/><circle cy=\"0\" cx=\"1\" r=\".02\" style=\"fill:black;\"/><circle cy=\"-.666667\" cx=\"-.333333\" r=\".02\" style=\"fill:black;\"/><circle cy=\".666667\" cx=\"-.333333\" r=\".02\" style=\"fill:black;\"/><circle cy=\"-.666667\" cx=\".333333\" r=\".02\" style=\"fill:black;\"/><circle cy=\".666667\" cx=\".333333\" r=\".02\" style=\"fill:black;\"/><circle cy=\"-.444444\" cx=\"-.777778\" r=\".02\" style=\"fill:black;\"/><circle cy=\".444444\" cx=\"-.777778\" r=\".02\" style=\"fill:black;\"/><circle cy=\"-.444444\" cx=\".777778\" r=\".02\" style=\"fill:black;\"/><circle cy=\".444444\" cx=\".777778\" r=\".02\" style=\"fill:black;\"/><circle cy=\"-.545455\" cx=\"-.636364\" r=\".02\" style=\"fill:black;\"/><circle cy=\".545455\" cx=\"-.636364\" r=\".02\" style=\"fill:black;\"/><circle cy=\"-.545455\" cx=\".636364\" r=\".02\" style=\"fill:black;\"/><circle cy=\".545455\" cx=\".636364\" r=\".02\" style=\"fill:black;\"/><circle cy=\"-.705882\" cx=\"-.0588235\" r=\".02\" style=\"fill:black;\"/><circle cy=\".705882\" cx=\"-.0588235\" r=\".02\" style=\"fill:black;\"/><circle cy=\"-.705882\" cx=\".0588235\" r=\".02\" style=\"fill:black;\"/><circle cy=\".705882\" cx=\".0588235\" r=\".02\" style=\"fill:black;\"/><circle cy=\"-.315789\" cx=\"-.894737\" r=\".02\" style=\"fill:black;\"/><circle cy=\".315789\" cx=\"-.894737\" r=\".02\" style=\"fill:black;\"/><circle cy=\"-.315789\" cx=\".894737\" r=\".02\" style=\"fill:black;\"/><circle cy=\".315789\" cx=\".894737\" r=\".02\" style=\"fill:black;\"/><circle cy=\"-.37037\" cx=\"-.851852\" r=\".02\" style=\"fill:black;\"/><circle cy=\".37037\" cx=\"-.851852\" r=\".02\" style=\"fill:black;\"/><circle cy=\"-.37037\" cx=\".851852\" r=\".02\" style=\"fill:black;\"/><circle cy=\".37037\" cx=\".851852\" r=\".02\" style=\"fill:black;\"/></g></svg>"
      ]
     },
     "execution_count": 8,
     "metadata": {},
     "output_type": "execute_result"
    }
   ],
   "source": [
    "gList({plot(f,{-2,2}, \"stroke-width\"=>0.02, Mesh=>100, \"stroke\"=>\"red\")} | \n",
    "    for p in rationalPoints(ideal f, Bound=>30) list \n",
    "        Circle{Center=>vector p, Radius=>0.02, \"fill\"=>\"black\"}, SizeX=>30)"
   ]
  }
 ],
 "metadata": {
  "kernelspec": {
   "display_name": "M2",
   "language": "text/x-macaulay2",
   "name": "m2"
  },
  "language_info": {
   "codemirror_mode": "macaulay2",
   "file_extension": ".m2",
   "mimetype": "text/x-macaulay2",
   "name": "Macaulay2"
  }
 },
 "nbformat": 4,
 "nbformat_minor": 4
}
